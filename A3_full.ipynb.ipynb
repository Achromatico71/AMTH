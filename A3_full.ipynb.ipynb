{
 "cells": [
  {
   "cell_type": "markdown",
   "id": "99d715bd",
   "metadata": {},
   "source": [
    "# Math Lab IV - Assignment 03\n",
    "## Solutions using Python"
   ]
  },
  {
   "cell_type": "markdown",
   "id": "4f2b624a",
   "metadata": {},
   "source": [
    "## Problem 1: Initial Value Problems"
   ]
  },
  {
   "cell_type": "code",
   "execution_count": null,
   "id": "cd3ed143",
   "metadata": {},
   "outputs": [],
   "source": [
    "import numpy as np\n",
    "import matplotlib.pyplot as plt\n",
    "from scipy.integrate import odeint, solve_ivp\n",
    "\n",
    "def f1(y, t):\n",
    "    return t * np.exp(3*t) - 2*y\n",
    "\n",
    "def f2(t, y):\n",
    "    return t * np.exp(3*t) - 2*y\n",
    "\n",
    "def exact_solution_1(t):\n",
    "    return (1/5) * t * np.exp(3*t) - (1/25) * np.exp(3*t) + (1/25) * np.exp(-2*t)\n",
    "\n",
    "t_vals = np.linspace(0, 1, 50)\n",
    "y0 = [0]\n",
    "\n",
    "y_odeint = odeint(f1, y0, t_vals).flatten()\n",
    "\n",
    "sol_ivp = solve_ivp(f2, [0, 1], y0, t_eval=t_vals)\n",
    "y_ivp = sol_ivp.y.flatten()\n",
    "\n",
    "y_exact = exact_solution_1(t_vals)\n",
    "\n",
    "\n",
    "error_odeint = np.abs(y_odeint - y_exact)\n",
    "error_ivp = np.abs(y_ivp - y_exact)\n",
    "\n",
    "plt.figure(figsize=(10, 6))\n",
    "plt.plot(t_vals, y_exact, 'k-', label='Exact Solution')\n",
    "plt.plot(t_vals, y_odeint, 'b--', label='odeint Solution')\n",
    "plt.plot(t_vals, y_ivp, 'r-.', label='solve_ivp Solution')\n",
    "plt.xlabel('t')\n",
    "plt.ylabel('y')\n",
    "plt.legend()\n",
    "plt.title('Comparison of Numerical and Exact Solutions')\n",
    "plt.grid()\n",
    "plt.show()\n",
    "\n",
    "print(\"Max error with odeint:\", np.max(error_odeint))\n",
    "print(\"Max error with solve_ivp:\", np.max(error_ivp))\n"
   ]
  },
  {
   "cell_type": "markdown",
   "id": "23fce5d1",
   "metadata": {},
   "source": [
    "## Problem 2: Lotka-Volterra Predator-Prey Model"
   ]
  },
  {
   "cell_type": "code",
   "execution_count": null,
   "id": "5aeef1ca",
   "metadata": {},
   "outputs": [],
   "source": [
    "import numpy as np\n",
    "import matplotlib.pyplot as plt\n",
    "from scipy.integrate import solve_ivp\n",
    "\n",
    "def lotka_volterra(t, z):\n",
    "    x, y = z\n",
    "    dxdt = -0.1 * x + 0.02 * x * y\n",
    "    dydt = 0.2 * y - 0.025 * x * y\n",
    "    return [dxdt, dydt]\n",
    "\n",
    "t_vals = np.linspace(0, 50, 500)\n",
    "z0 = [6, 6]\n",
    "\n",
    "sol = solve_ivp(lotka_volterra, [t_vals[0], t_vals[-1]], z0, t_eval=t_vals)\n",
    "\n",
    "\n",
    "plt.figure(figsize=(10, 6))\n",
    "plt.plot(sol.t, sol.y[0], label=\"Predator Population (x)\")\n",
    "plt.plot(sol.t, sol.y[1], label=\"Prey Population (y)\")\n",
    "plt.xlabel(\"Time\")\n",
    "plt.ylabel(\"Population (thousands)\")\n",
    "plt.legend()\n",
    "plt.title(\"Lotka-Volterra Predator-Prey Model\")\n",
    "plt.grid()\n",
    "plt.show()\n",
    "\n",
    "diff = np.abs(sol.y[0] - sol.y[1])\n",
    "t_equal = sol.t[np.argmin(diff)]\n",
    "print(\"First time when populations are equal:\", t_equal)\n"
   ]
  },
  {
   "cell_type": "markdown",
   "id": "8f9de593",
   "metadata": {},
   "source": [
    "## Problem 3: Competition Model"
   ]
  },
  {
   "cell_type": "code",
   "execution_count": null,
   "id": "b0de46d6",
   "metadata": {},
   "outputs": [],
   "source": [
    "def competition_model(t, z):\n",
    "    x, y = z\n",
    "    dxdt = x * (2 - 0.4 * x - 0.3 * y)\n",
    "    dydt = y * (1 - 0.1 * y - 0.3 * x)\n",
    "    return [dxdt, dydt]\n",
    "\n",
    "initial_conditions = [[1.5, 3.5], [1, 1], [2, 7], [4.5, 0.5]]\n",
    "t_vals = np.linspace(0, 50, 500)\n",
    "\n",
    "plt.figure(figsize=(10, 6))\n",
    "for ic in initial_conditions:\n",
    "    sol = solve_ivp(competition_model, [t_vals[0], t_vals[-1]], ic, t_eval=t_vals)\n",
    "    plt.plot(sol.t, sol.y[0], label=f\"x(t) with x0={ic[0]}, y0={ic[1]}\")\n",
    "    plt.plot(sol.t, sol.y[1], label=f\"y(t) with x0={ic[0]}, y0={ic[1]}\")\n",
    "\n",
    "plt.xlabel(\"Time (years)\")\n",
    "plt.ylabel(\"Population (thousands)\")\n",
    "plt.legend()\n",
    "plt.title(\"Competition Model\")\n",
    "plt.grid()\n",
    "plt.show()\n"
   ]
  },
  {
   "cell_type": "markdown",
   "id": "983f2d6a",
   "metadata": {},
   "source": [
    "## Problem 4: Pendulum Motion"
   ]
  },
  {
   "cell_type": "code",
   "execution_count": null,
   "id": "0c6a5c0b",
   "metadata": {},
   "outputs": [],
   "source": [
    "from scipy.integrate import solve_ivp\n",
    "\n",
    "g = 32.17\n",
    "L = 2\n",
    "\n",
    "def pendulum(t, z):\n",
    "    theta, omega = z\n",
    "    dtheta_dt = omega\n",
    "    domega_dt = - (g / L) * np.sin(theta)\n",
    "    return [dtheta_dt, domega_dt]\n",
    "\n",
    "t_vals = np.arange(0, 2.1, 0.1)\n",
    "z0 = [np.pi / 6, 0]\n",
    "\n",
    "sol = solve_ivp(pendulum, [t_vals[0], t_vals[-1]], z0, t_eval=t_vals)\n",
    "\n",
    "plt.figure(figsize=(10, 6))\n",
    "plt.plot(sol.t, sol.y[0], label=\"Theta (radians)\")\n",
    "plt.xlabel(\"Time (s)\")\n",
    "plt.ylabel(\"Theta (radians)\")\n",
    "plt.legend()\n",
    "plt.title(\"Pendulum Motion\")\n",
    "plt.grid()\n",
    "plt.show()\n"
   ]
  },
  {
   "cell_type": "markdown",
   "id": "bfaf1a84",
   "metadata": {},
   "source": [
    "## Problem 5: Third-Order System Reduction"
   ]
  },
  {
   "cell_type": "code",
   "execution_count": null,
   "id": "e628db0e",
   "metadata": {},
   "outputs": [],
   "source": [
    "def system_odes(t, z):\n",
    "    x1, x2, x3, x4, x5 = z\n",
    "    dx1dt = x2\n",
    "    dx2dt = x3\n",
    "    dx3dt = -x2**3 + x1 + np.sin(t)\n",
    "    dx4dt = x5\n",
    "    dx5dt = -2*x4**2 + x2\n",
    "    return [dx1dt, dx2dt, dx3dt, dx4dt, dx5dt]\n",
    "\n",
    "t_vals = np.linspace(0, 10, 500)\n",
    "z0 = [1, 0, 0, 1, 0]\n",
    "\n",
    "sol = solve_ivp(system_odes, [t_vals[0], t_vals[-1]], z0, t_eval=t_vals)\n",
    "\n",
    "plt.figure(figsize=(10, 6))\n",
    "plt.plot(sol.t, sol.y[0], label=\"x1\")\n",
    "plt.plot(sol.t, sol.y[3], label=\"x2\")\n",
    "plt.xlabel(\"Time\")\n",
    "plt.ylabel(\"Values\")\n",
    "plt.legend()\n",
    "plt.title(\"Solution to Third-Order System\")\n",
    "plt.grid()\n",
    "plt.show()\n"
   ]
  },
  {
   "cell_type": "markdown",
   "id": "411ff464",
   "metadata": {},
   "source": [
    "## Problem 6: Linear Shooting Method and solve_bvp"
   ]
  },
  {
   "cell_type": "code",
   "execution_count": null,
   "id": "8eb1ec8c",
   "metadata": {},
   "outputs": [],
   "source": [
    "from scipy.integrate import solve_bvp\n",
    "\n",
    "def bvp_eqs(x, y):\n",
    "    return np.vstack([y[1], 100 * y[0]])\n",
    "\n",
    "def bc(ya, yb):\n",
    "    return np.array([ya[0] - 1, yb[0] - np.exp(-10)])\n",
    "\n",
    "x_vals = np.linspace(0, 1, 20)\n",
    "y_init = np.zeros((2, x_vals.size))\n",
    "\n",
    "sol = solve_bvp(bvp_eqs, bc, x_vals, y_init)\n",
    "\n",
    "plt.figure(figsize=(10, 6))\n",
    "plt.plot(sol.x, sol.y[0], label=\"BVP Solution\")\n",
    "plt.xlabel(\"x\")\n",
    "plt.ylabel(\"y(x)\")\n",
    "plt.legend()\n",
    "plt.title(\"Boundary Value Problem Solution using solve_bvp\")\n",
    "plt.grid()\n",
    "plt.show()\n"
   ]
  }
 ],
 "metadata": {
  "language_info": {
   "name": "python"
  }
 },
 "nbformat": 4,
 "nbformat_minor": 5
}
